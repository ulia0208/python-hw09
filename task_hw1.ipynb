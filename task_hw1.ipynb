{
  "nbformat": 4,
  "nbformat_minor": 0,
  "metadata": {
    "colab": {
      "provenance": [],
      "authorship_tag": "ABX9TyPr9FaOTvY8Le0EYpeqLRuY",
      "include_colab_link": true
    },
    "kernelspec": {
      "name": "python3",
      "display_name": "Python 3"
    },
    "language_info": {
      "name": "python"
    }
  },
  "cells": [
    {
      "cell_type": "markdown",
      "metadata": {
        "id": "view-in-github",
        "colab_type": "text"
      },
      "source": [
        "<a href=\"https://colab.research.google.com/github/ulia0208/python-hw09/blob/main/task_cw1.ipynb\" target=\"_parent\"><img src=\"https://colab.research.google.com/assets/colab-badge.svg\" alt=\"Open In Colab\"/></a>"
      ]
    },
    {
      "cell_type": "code",
      "execution_count": 114,
      "metadata": {
        "colab": {
          "base_uri": "https://localhost:8080/"
        },
        "id": "EBy7pMXWZr7d",
        "outputId": "4522b32d-ebb0-4407-8bd6-b40ace8e4e89"
      },
      "outputs": [
        {
          "output_type": "execute_result",
          "data": {
            "text/plain": [
              "4.0"
            ]
          },
          "metadata": {},
          "execution_count": 114
        }
      ],
      "source": [

        "import pandas as pd\n",
        "\n",
        "df=pd.read_csv('sample_data/california_housing_train.csv')\n",
        "\n",
        "df\n",
        "\n",
        "df[(df['population']>=0)&(df['population']<=500)]['median_house_value'].mean()\n",
        "\n",
        "df\n",
        "\n",
        "df[df['population']==df['population'].min()]['households'].max()\n",
        "\n"
      ]
    }
  ]
}
